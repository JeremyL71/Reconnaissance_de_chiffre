{
 "cells": [
  {
   "cell_type": "code",
   "execution_count": 52,
   "metadata": {},
   "outputs": [],
   "source": [
    "from sklearn.datasets import fetch_mldata\n",
    "#importation pour l'échantillonage\n",
    "import numpy as np\n",
    "import matplotlib.pyplot as plt\n",
    "#Importation pour spliter les données\n",
    "from sklearn.cross_validation import train_test_split\n",
    "#Import KNN\n",
    "from sklearn.neighbors import KNeighborsClassifier"
   ]
  },
  {
   "cell_type": "code",
   "execution_count": 53,
   "metadata": {
    "scrolled": true
   },
   "outputs": [],
   "source": [
    "mnist = fetch_mldata('MNIST original',data_home='./scikit_learn_data') #chercher le dossier MNIST"
   ]
  },
  {
   "cell_type": "code",
   "execution_count": 54,
   "metadata": {},
   "outputs": [
    {
     "name": "stdout",
     "output_type": "stream",
     "text": [
      "(70000, 784)\n"
     ]
    }
   ],
   "source": [
    "print (mnist.data.shape) #affiche 70 000 image de 28*28pixels =784 données)"
   ]
  },
  {
   "cell_type": "code",
   "execution_count": 55,
   "metadata": {},
   "outputs": [
    {
     "data": {
      "text/plain": [
       "(70000,)"
      ]
     },
     "execution_count": 55,
     "metadata": {},
     "output_type": "execute_result"
    }
   ],
   "source": [
    "mnist.target.shape #annotation au dessus de l'image de 28*28"
   ]
  },
  {
   "cell_type": "code",
   "execution_count": 56,
   "metadata": {},
   "outputs": [],
   "source": [
    "num_samples=5000 #on prend 5000 données sur les 70000\n",
    "sample= np.random.randint(mnist.data.shape[0],size=num_samples) #data shape [0] renvoi 70000, cad le nombre d'observation\n",
    "X = mnist.data [sample] #on récupère les images\n",
    "Y = mnist.target [sample] #on récupères le target"
   ]
  },
  {
   "cell_type": "code",
   "execution_count": 57,
   "metadata": {},
   "outputs": [
    {
     "data": {
      "image/png": "[encoded data removed]",
      "text/plain": [
       "<Figure size 432x288 with 16 Axes>"
      ]
     },
     "metadata": {
      "needs_background": "light"
     },
     "output_type": "display_data"
    }
   ],
   "source": [
    "#affichier des images et afficher le dataset\n",
    "#ETAPE1, on redimensionne en 28*28 les vecteurs qui sont en un seul vecteur\n",
    "sample_viz= X.reshape((-1,28,28)) \n",
    "for index, val in enumerate (np.random.randint(num_samples,size=16)):#création d'une boucle sur l'échantillon\n",
    "    plt.subplot(4,4,index+1) #afficher des carrés de taille 4\n",
    "    #puis en sautant un ligne au bout du 5ième carré (index+1 pour ne pas afficher un vide au début)\n",
    "    plt.axis('off') #supprime les axes X et Y \n",
    "    plt.imshow(sample_viz[val],cmap=plt.cm.gray_r, interpolation=\"nearest\") \n",
    "    #afficher les résultats de la boucles, en noir et blanc \n",
    "    #(_r permet d'inverser noir et blanc), on affiche des pixel, pas besoin de faire des interpolations\n",
    "    #---------------------------------------\n",
    "    plt.title ('%i'% Y[val]) #permet d'afficher les targets\n",
    "\n",
    "plt.show() #afficher les images que l'on a crée"
   ]
  },
  {
   "cell_type": "code",
   "execution_count": 58,
   "metadata": {},
   "outputs": [],
   "source": [
    "Xtrain, Xtest, Ytrain, Ytest = train_test_split(X,Y, train_size=0.7)\n",
    "#on split en training et testing les données\n",
    "#la fonction découpe le dataset dans les proportions souhaitées\n",
    "#le dataset renvoi les quatre matrices"
   ]
  },
  {
   "cell_type": "code",
   "execution_count": 59,
   "metadata": {},
   "outputs": [],
   "source": [
    "knn = KNeighborsClassifier(3) #NB de voisin = 3 "
   ]
  },
  {
   "cell_type": "code",
   "execution_count": 60,
   "metadata": {},
   "outputs": [
    {
     "data": {
      "text/plain": [
       "KNeighborsClassifier(algorithm='auto', leaf_size=30, metric='minkowski',\n",
       "           metric_params=None, n_jobs=1, n_neighbors=3, p=2,\n",
       "           weights='uniform')"
      ]
     },
     "execution_count": 60,
     "metadata": {},
     "output_type": "execute_result"
    }
   ],
   "source": [
    "knn.fit(Xtrain,Ytrain) #on entraine le classifier"
   ]
  },
  {
   "cell_type": "code",
   "execution_count": 61,
   "metadata": {},
   "outputs": [
    {
     "name": "stdout",
     "output_type": "stream",
     "text": [
      "[2. 9. 6. 2. 2.]\n",
      "[2. 9. 6. 2. 7.]\n"
     ]
    }
   ],
   "source": [
    "print (knn.predict(Xtrain[10:15])) #prend les images dont le numéro est entre 10 et 15\n",
    "print (Ytrain[10:15]) #prend les targets compris entre 10 et 15"
   ]
  },
  {
   "cell_type": "code",
   "execution_count": 62,
   "metadata": {},
   "outputs": [
    {
     "data": {
      "text/plain": [
       "92.60000000000001"
      ]
     },
     "execution_count": 62,
     "metadata": {},
     "output_type": "execute_result"
    }
   ],
   "source": [
    "knn.score(Xtest,Ytest)*100  #affiche en % le taux de réussite (attention ce résultat dépend des 5000 données )"
   ]
  },
  {
   "cell_type": "code",
   "execution_count": 63,
   "metadata": {},
   "outputs": [
    {
     "data": {
      "text/plain": [
       "7.399999999999995"
      ]
     },
     "execution_count": 63,
     "metadata": {},
     "output_type": "execute_result"
    }
   ],
   "source": [
    "(1-knn.score(Xtest,Ytest))*100 #affiche en % le taux d'échec"
   ]
  },
  {
   "cell_type": "code",
   "execution_count": 64,
   "metadata": {},
   "outputs": [],
   "source": [
    "#on va tester différents classifier\n",
    "krange= range(2,15) #2 à 15 voisins\n",
    "errors=[] #création du tableau erreurs\n",
    "for k in krange:\n",
    "    knn = KNeighborsClassifier(k)\n",
    "    knn.fit(Xtrain,Ytrain)\n",
    "    errors.append(1-knn.score(Xtest,Ytest)) #mesure des erreurs et les mets dans un tableaux"
   ]
  },
  {
   "cell_type": "code",
   "execution_count": 65,
   "metadata": {
    "scrolled": true
   },
   "outputs": [
    {
     "data": {
      "text/plain": [
       "<function matplotlib.pyplot.show(*args, **kw)>"
      ]
     },
     "execution_count": 65,
     "metadata": {},
     "output_type": "execute_result"
    },
    {
     "data": {
      "image/png": "[encoded data removed]",
      "text/plain": [
       "<Figure size 432x288 with 1 Axes>"
      ]
     },
     "metadata": {
      "needs_background": "light"
     },
     "output_type": "display_data"
    }
   ],
   "source": [
    "plt.plot(krange,errors) #affiche sous forme graphique, le nombre d'erreur par classifier (selon les voisins)\n",
    "plt.show"
   ]
  },
  {
   "cell_type": "code",
   "execution_count": 66,
   "metadata": {},
   "outputs": [],
   "source": [
    "#Le classifier est performant avec un Knn(3;4)... si on augmente la valeur de num_samples le résultat peut varier\n",
    "\n",
    "#On va chercher à visualiser les erreurs"
   ]
  },
  {
   "cell_type": "code",
   "execution_count": 67,
   "metadata": {},
   "outputs": [],
   "source": [
    "knn = KNeighborsClassifier(5) #NB de voisin = 3 "
   ]
  },
  {
   "cell_type": "code",
   "execution_count": 68,
   "metadata": {},
   "outputs": [
    {
     "data": {
      "text/plain": [
       "KNeighborsClassifier(algorithm='auto', leaf_size=30, metric='minkowski',\n",
       "           metric_params=None, n_jobs=1, n_neighbors=5, p=2,\n",
       "           weights='uniform')"
      ]
     },
     "execution_count": 68,
     "metadata": {},
     "output_type": "execute_result"
    }
   ],
   "source": [
    "knn.fit(Xtrain,Ytrain) "
   ]
  },
  {
   "cell_type": "code",
   "execution_count": 69,
   "metadata": {},
   "outputs": [],
   "source": [
    "predict = knn.predict(Xtest) #annotation predict\n"
   ]
  },
  {
   "cell_type": "code",
   "execution_count": 73,
   "metadata": {},
   "outputs": [
    {
     "data": {
      "image/png": "[encoded data removed]",
      "text/plain": [
       "<Figure size 432x288 with 16 Axes>"
      ]
     },
     "metadata": {
      "needs_background": "light"
     },
     "output_type": "display_data"
    }
   ],
   "source": [
    "predict_viz = Xtest.reshape((-1,28,28)) #on utilise les images test\n",
    "misclassified = Xtest[Ytest != predict] #on sélectionne dans predict les predictions différentes des annotations test\n",
    "misclassified_label = predict [Ytest != predict] \n",
    "for index,val in enumerate (np.random.randint(predict.shape[0],size=16)):\n",
    "    plt.subplot(4,4,index+1) \n",
    "    plt.axis('off') #axe\n",
    "    plt.imshow(sample_viz[val],cmap=plt.cm.gray_r, interpolation=\"nearest\") #visualisation\n",
    "    plt.title ('%i' % predict[val])\n",
    "    \n",
    "plt.show()"
   ]
  },
  {
   "cell_type": "code",
   "execution_count": null,
   "metadata": {},
   "outputs": [],
   "source": []
  },
  {
   "cell_type": "code",
   "execution_count": null,
   "metadata": {},
   "outputs": [],
   "source": []
  },
  {
   "cell_type": "code",
   "execution_count": null,
   "metadata": {},
   "outputs": [],
   "source": []
  },
  {
   "cell_type": "code",
   "execution_count": null,
   "metadata": {},
   "outputs": [],
   "source": []
  },
  {
   "cell_type": "code",
   "execution_count": null,
   "metadata": {},
   "outputs": [],
   "source": []
  },
  {
   "cell_type": "code",
   "execution_count": null,
   "metadata": {},
   "outputs": [],
   "source": []
  },
  {
   "cell_type": "code",
   "execution_count": null,
   "metadata": {},
   "outputs": [],
   "source": []
  }
 ],
 "metadata": {
  "kernelspec": {
   "display_name": "Python 3",
   "language": "python",
   "name": "python3"
  },
  "language_info": {
   "codemirror_mode": {
    "name": "ipython",
    "version": 3
   },
   "file_extension": ".py",
   "mimetype": "text/x-python",
   "name": "python",
   "nbconvert_exporter": "python",
   "pygments_lexer": "ipython3",
   "version": "3.7.0"
  }
 },
 "nbformat": 4,
 "nbformat_minor": 2
}
